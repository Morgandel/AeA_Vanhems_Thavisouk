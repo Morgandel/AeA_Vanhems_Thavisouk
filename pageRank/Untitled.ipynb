{
 "cells": [
  {
   "cell_type": "code",
   "execution_count": 1,
   "metadata": {},
   "outputs": [],
   "source": [
    "successeurs = [[],[0,2],[3],[1],[0,5],[6],[4]]\n",
    "predecesseur = [[1,4],[3],[1],[2],[6],[4],[5]]\n",
    "N=len(successeurs)\n",
    "d=4/5\n",
    "score = [1/N]*N\n",
    "\n",
    "def calcScore(pred, succ, current):\n",
    "    sum=0\n",
    "    for j in range(0,len(pred[current])):\n",
    "        nbSucc = len(succ[pred[current][j]])\n",
    "        if(nbSucc !=0):\n",
    "            sum += score[pred[current][j]]/nbSucc\n",
    "    return d * sum + (1-d) * 1/N\n",
    "\n",
    "def algo(succ, pred):\n",
    "    for i in range(0,30):\n",
    "        for j in range(0,N):\n",
    "            score[j] = calcScore(pred, succ, j)\n",
    "    for i in range(0,N):\n",
    "        print(i,\":\", score[i])"
   ]
  },
  {
   "cell_type": "code",
   "execution_count": null,
   "metadata": {},
   "outputs": [],
   "source": []
  }
 ],
 "metadata": {
  "kernelspec": {
   "display_name": "Python 3",
   "language": "python",
   "name": "python3"
  },
  "language_info": {
   "codemirror_mode": {
    "name": "ipython",
    "version": 3
   },
   "file_extension": ".py",
   "mimetype": "text/x-python",
   "name": "python",
   "nbconvert_exporter": "python",
   "pygments_lexer": "ipython3",
   "version": "3.5.2"
  }
 },
 "nbformat": 4,
 "nbformat_minor": 2
}
