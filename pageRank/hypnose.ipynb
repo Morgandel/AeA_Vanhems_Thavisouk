{
 "cells": [
  {
   "cell_type": "code",
   "execution_count": 60,
   "metadata": {},
   "outputs": [],
   "source": [
    "import networkx as nx\n",
    "import matplotlib.pyplot as plt\n",
    "\n",
    "d=4/5\n",
    "\n",
    "def init(succ,save,name=\"untitled.png\"):\n",
    "    successeurs = succ\n",
    "    N=len(succ)\n",
    "    score = [1/N]*N\n",
    "    predecesseur = getPredecessor(successeurs)\n",
    "    algo(successeurs,predecesseur, N, score)\n",
    "    drawGraph(successeurs,save,name)\n",
    "\n",
    "def getPredecessor(succ):\n",
    "    pred=[]\n",
    "    for i in range(len(succ)):\n",
    "        pred.append([])\n",
    "    for i,l in enumerate(succ):\n",
    "        for j in l:\n",
    "            pred[j].append(i)\n",
    "    return pred\n",
    "\n",
    "def calcScore(pred, succ, current, N, score):\n",
    "    sum=0\n",
    "    for j in range(0,len(pred[current])):\n",
    "        nbSucc = len(succ[pred[current][j]])\n",
    "        if(nbSucc !=0):\n",
    "            sum += score[pred[current][j]]/nbSucc\n",
    "    return d * sum + (1-d) * 1/N\n",
    "\n",
    "def algo(succ, pred, N, score):\n",
    "    for i in range(0,30):\n",
    "        for j in range(0,N):\n",
    "            score[j] = calcScore(pred, succ, j, N, score)\n",
    "    total=0\n",
    "    for i in range(0,N):\n",
    "        print(i,\":\", score[i])\n",
    "        total+=score[i]\n",
    "    print(\"total : \"+str(total))\n",
    "    \n",
    "def drawGraph(succ,save,name=\"unitled.png\"):\n",
    "    G = nx.DiGraph()\n",
    "    for i,j in enumerate(succ):\n",
    "        for k in j:\n",
    "            G.add_edge(i,k)\n",
    "    #G.add_edges_from([(0,1), (1,2), (1,3), (2,3)])\n",
    "    pos=nx.spring_layout(G) # positions for all nodes\n",
    "    elarge=[(u,v) for (u,v,d) in G.edges(data=True)]\n",
    "\n",
    "    # drawing\n",
    "    nx.draw_networkx_nodes(G,pos,node_size=500)\n",
    "    nx.draw_networkx_edges(G,pos,edgelist=elarge,width=3)\n",
    "    nx.draw_networkx_labels(G,pos,font_size=20,font_family='sans-serif')\n",
    "    plt.axis('off')\n",
    "    if(save):\n",
    "        plt.savefig(name) # save as png\n",
    "    plt.show() # display\n",
    "    plt.show()\n",
    "\n",
    "    print(nx.pagerank(G, alpha=0.9))\n"
   ]
  },
  {
   "cell_type": "code",
   "execution_count": 61,
   "metadata": {},
   "outputs": [
    {
     "name": "stdout",
     "output_type": "stream",
     "text": [
      "0 : 0.3632075594650505\n",
      "1 : 0.1952830237860202\n",
      "2 : 0.39150944281483635\n",
      "3 : 0.04999999999999999\n",
      "total : 1.000000026065907\n"
     ]
    },
    {
     "data": {
      "image/png": "[encoded data removed]",
      "text/plain": [
       "<matplotlib.figure.Figure at 0x7f6d21137dd8>"
      ]
     },
     "metadata": {},
     "output_type": "display_data"
    },
    {
     "name": "stdout",
     "output_type": "stream",
     "text": [
      "{0: 0.381779162801134, 1: 0.1968006232605103, 2: 0.3964202139383563, 3: 0.024999999999999994}\n"
     ]
    }
   ],
   "source": [
    "successeurs = [[1,2],[2],[0],[2]]\n",
    "init(successeurs,False)"
   ]
  },
  {
   "cell_type": "code",
   "execution_count": null,
   "metadata": {},
   "outputs": [],
   "source": [
    "successeurs = [[1,2],[2],[0],[2]]\n",
    "init(successeurs,False)\n"
   ]
  }
 ],
 "metadata": {
  "kernelspec": {
   "display_name": "Python 3",
   "language": "python",
   "name": "python3"
  },
  "language_info": {
   "codemirror_mode": {
    "name": "ipython",
    "version": 3
   },
   "file_extension": ".py",
   "mimetype": "text/x-python",
   "name": "python",
   "nbconvert_exporter": "python",
   "pygments_lexer": "ipython3",
   "version": "3.5.2"
  }
 },
 "nbformat": 4,
 "nbformat_minor": 2
}
