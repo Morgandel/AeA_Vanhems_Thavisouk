{
 "cells": [
  {
   "cell_type": "code",
   "execution_count": 1,
   "metadata": {},
   "outputs": [],
   "source": [
    "import matplotlib.pyplot as plt\n",
    "import random \n",
    "\n",
    "def pareto(ens):\n",
    "    filtered = list(ens)\n",
    "    i=0\n",
    "    ite=len(ens)\n",
    "    while(i<ite):\n",
    "        wb=filtered[0][0]\n",
    "        pb=filtered[0][1]\n",
    "        new_list= list()\n",
    "        found=False\n",
    "        for j in range (1,len(filtered)):\n",
    "            wa=filtered[j][0]\n",
    "            pa=filtered[j][1]\n",
    "            if((pa>pb or wa<=wb ) and (pa>=pb or wa<wb)):\n",
    "                new_list.append(filtered[j])\n",
    "                found=True\n",
    "        \n",
    "        if(found):\n",
    "            new_list.append(filtered[0])\n",
    "            filtered=new_list\n",
    "        else:\n",
    "            print()\n",
    "            if(len(new_list)==0):\n",
    "                ite=0\n",
    "                filtered=[filtered[0]]\n",
    "            else:\n",
    "                filtered=new_list[1:].append(filtered[0])\n",
    "        i+=1\n",
    "    return filtered\n",
    "\n",
    "\n"
   ]
  },
  {
   "cell_type": "code",
   "execution_count": 2,
   "metadata": {},
   "outputs": [],
   "source": [
    "ens=[(14,92),(66,94),(71,29),(46,83),(72,65),(94,52),(26,74)]\n",
    "\n",
    "\n",
    "retour=pareto(ens)"
   ]
  },
  {
   "cell_type": "code",
   "execution_count": 3,
   "metadata": {},
   "outputs": [
    {
     "data": {
      "text/plain": [
       "<matplotlib.collections.PathCollection at 0x7facfbd74f60>"
      ]
     },
     "execution_count": 3,
     "metadata": {},
     "output_type": "execute_result"
    },
    {
     "data": {
      "image/png": "[encoded data removed]",
      "text/plain": [
       "<matplotlib.figure.Figure at 0x7fad28a85dd8>"
      ]
     },
     "metadata": {},
     "output_type": "display_data"
    }
   ],
   "source": [
    "plt.scatter(*zip(*ens))\n",
    "plt.scatter(*zip(*retour), c='red')"
   ]
  },
  {
   "cell_type": "code",
   "execution_count": 12,
   "metadata": {},
   "outputs": [
    {
     "name": "stdout",
     "output_type": "stream",
     "text": [
      "[(1, 29), (5, 81), (5, 64), (8, 58), (9, 59), (12, 61), (15, 75), (13, 64), (18, 80), (21, 89), (12, 48), (22, 88), (26, 93), (18, 53), (32, 87), (37, 99), (22, 49), (33, 71), (50, 99), (39, 77), (34, 65), (31, 59), (41, 77), (52, 95), (45, 82), (51, 91), (18, 30), (60, 97), (61, 98), (43, 69), (59, 92), (41, 61), (54, 80), (50, 71), (29, 41), (57, 80), (36, 50), (20, 27), (23, 30), (56, 66), (36, 42), (49, 57), (52, 60), (66, 75), (53, 60), (35, 39), (71, 75), (44, 45), (51, 52), (49, 48), (77, 75), (93, 90), (39, 37), (70, 65), (84, 74), (28, 24), (79, 65), (33, 27), (62, 50), (90, 71), (71, 55), (12, 9), (86, 62), (39, 27), (31, 20), (25, 16), (78, 48), (95, 58), (71, 43), (25, 15), (92, 55), (44, 26), (53, 31), (77, 45), (48, 27), (62, 34), (74, 39), (67, 34), (71, 36), (67, 33), (91, 43), (38, 15), (95, 37), (91, 33), (28, 8), (91, 24), (62, 12), (71, 13), (61, 10), (80, 13), (13, 2), (72, 11), (36, 5), (75, 9), (29, 3), (60, 6), (39, 3), (99, 2), (59, 1), (88, 1)]\n"
     ]
    }
   ],
   "source": [
    "n = 100\n",
    "result=[(92,14),(166,  40),(175,  60),(249,  86),(186,  80),(260, 106),(269, 126),(343, 152),(408, 224),(460, 318),(372, 223),(437, 295),(489, 389)]\n",
    "ens = []\n",
    "for i in range(n):\n",
    "    ens.append((random.randrange(1, 100),random.randrange(1, 100)))\n",
    "\n",
    "ens=sorted(ens,key=lambda x :x[1]/x[0], reverse=True)\n",
    "#print(ens)"
   ]
  },
  {
   "cell_type": "code",
   "execution_count": 5,
   "metadata": {
    "scrolled": false
   },
   "outputs": [
    {
     "name": "stdout",
     "output_type": "stream",
     "text": [
      "[(92, 14), (166, 40), (175, 60), (249, 86), (186, 80), (260, 106), (269, 126), (343, 152), (408, 224), (460, 318), (372, 223), (437, 295), (489, 389)]\n"
     ]
    },
    {
     "data": {
      "text/plain": [
       "<matplotlib.collections.PathCollection at 0x7facfbd8a630>"
      ]
     },
     "execution_count": 5,
     "metadata": {},
     "output_type": "execute_result"
    },
    {
     "data": {
      "image/png": "[encoded data removed]",
      "text/plain": [
       "<matplotlib.figure.Figure at 0x7facfbd8a550>"
      ]
     },
     "metadata": {},
     "output_type": "display_data"
    }
   ],
   "source": [
    "retour=pareto(result)\n",
    "print(retour)\n",
    "plt.scatter(*zip(*result))\n",
    "plt.scatter(*zip(*retour), c='red')"
   ]
  },
  {
   "cell_type": "code",
   "execution_count": 19,
   "metadata": {},
   "outputs": [
    {
     "data": {
      "text/plain": [
       "<matplotlib.collections.PathCollection at 0x7facf93b0710>"
      ]
     },
     "execution_count": 19,
     "metadata": {},
     "output_type": "execute_result"
    },
    {
     "data": {
      "image/png": "[encoded data removed]",
      "text/plain": [
       "<matplotlib.figure.Figure at 0x7facf93b07b8>"
      ]
     },
     "metadata": {},
     "output_type": "display_data"
    }
   ],
   "source": [
    "n = 16\n",
    "result=[(92,14),(166,  40),(175,  60),(249,  86),(186,  80),(260, 106),(269, 126),(343, 152),(408, 224),(460, 318),(372, 223),(437, 295),(489, 389)]\n",
    "ens = []\n",
    "for i in range(n):\n",
    "    ens.append((random.randrange(1, 100),random.randrange(1, 100)))\n",
    "\n",
    "ens=sorted(ens,key=lambda x :x[1]/x[0], reverse=True)\n",
    "#print(ens)\n",
    "ens=[(14,92),(66,94),(71,29),(46,83),(72,65),(94,52),(26,74)]\n",
    "sorted(ens, key= lambda x: x[0]/x[1])\n",
    "def addTuple(x,y):\n",
    "    return(x[0]+y[0],x[1]+y[1])\n",
    "\n",
    "def domine(ens1, ens2):\n",
    "    for point in ens2:\n",
    "        wb=point[0]\n",
    "        pb=point[1]\n",
    "        new_list=[]\n",
    "        for j in range (len(ens1)):\n",
    "            wa=ens1[j][0]\n",
    "            pa=ens1[j][1]\n",
    "            if((pa>pb or wa<=wb ) and (pa>=pb or wa<wb)):\n",
    "                new_list.append(ens1[j])\n",
    "        ens1=new_list\n",
    "        \n",
    "    \n",
    "\n",
    "def exp(ens):\n",
    "    cpEns=ens\n",
    "    listExp1=[(0,0)]\n",
    "    for i in range(len(cpEns)-1):\n",
    "        listExp2=[addTuple(x,cpEns[i]) for x in listExp1]\n",
    "        domine(listExp1,listExp2)\n",
    "        domine(listExp2,listExp1)\n",
    "        listExp1+=listExp2\n",
    "    return listExp1\n",
    "\n",
    "def domine2(ens1,ens2):\n",
    "    for point in ens2:\n",
    "        add=True\n",
    "        wb=point[0]\n",
    "        pb=point[1]\n",
    "        new_list=[]\n",
    "        for j in range (len(ens1)):\n",
    "            wa=ens1[j][0]\n",
    "            pa=ens1[j][1]\n",
    "            if((pa>pb or wa<=wb ) and (pa>=pb or wa<wb)):\n",
    "                new_list.append(ens1[j])\n",
    "            if((pa<=pb and wa>wb ) or (pa<pb and wa>=wb)):\n",
    "                add=False\n",
    "        ens1=new_list\n",
    "    \n",
    "\n",
    "resultatExp=exp(ens)\n",
    "\n",
    "par=pareto(resultatExp)\n",
    "#print(par)\n",
    "\n",
    "plt.scatter(*zip(*resultatExp))            \n",
    "plt.scatter(*zip(*par), c='red')        \n",
    "        \n",
    "        \n",
    "        \n",
    "        \n",
    "    \n",
    "    "
   ]
  },
  {
   "cell_type": "code",
   "execution_count": null,
   "metadata": {},
   "outputs": [],
   "source": []
  }
 ],
 "metadata": {
  "kernelspec": {
   "display_name": "Python 3",
   "language": "python",
   "name": "python3"
  },
  "language_info": {
   "codemirror_mode": {
    "name": "ipython",
    "version": 3
   },
   "file_extension": ".py",
   "mimetype": "text/x-python",
   "name": "python",
   "nbconvert_exporter": "python",
   "pygments_lexer": "ipython3",
   "version": "3.5.2"
  }
 },
 "nbformat": 4,
 "nbformat_minor": 2
}
